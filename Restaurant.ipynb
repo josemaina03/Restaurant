{
 "cells": [
  {
   "cell_type": "code",
   "execution_count": 2,
   "id": "f00989cf",
   "metadata": {},
   "outputs": [
    {
     "name": "stdout",
     "output_type": "stream",
     "text": [
      "Enter the item name (or 'done' to finish): Pasta\n",
      "Enter the item name (or 'done' to finish): Salad\n",
      "Enter the item name (or 'done' to finish): Burger\n",
      "Enter the item name (or 'done' to finish): Coke\n",
      "Enter the item name (or 'done' to finish): done\n",
      "Total bill amount: $32\n",
      "     Item   Price\n",
      "0   Pasta  $12.00\n",
      "1   Salad   $8.00\n",
      "2  Burger  $10.00\n",
      "3    Coke   $2.00\n"
     ]
    }
   ],
   "source": [
    "import  pandas as pd\n",
    "\n",
    "menu = {'Burger':10,\n",
    "        'Pizza':15,\n",
    "        'Pasta':12,\n",
    "        'Salad':8,\n",
    "        'Coke':2,\n",
    "        'Water':1\n",
    "       }\n",
    "\n",
    "order = []\n",
    "while True:\n",
    "    item = input(\"Enter the item name (or 'done' to finish): \")\n",
    "    if item == 'done':\n",
    "        break\n",
    "    else:\n",
    "        order.append(item)\n",
    "        \n",
    "total = 0\n",
    "for item in order:\n",
    "    if item in menu:\n",
    "        total += menu[item]\n",
    "    else:\n",
    "        print(f\"Item '{item}' not found in the menu.\")\n",
    "\n",
    "print(f\"Total bill amount: ${total}\")\n",
    "\n",
    "df = pd.DataFrame({'Item': order})\n",
    "df['Price'] = df['Item'].map(menu)\n",
    "df = df.dropna()\n",
    "df['Price'] = df['Price'].map('${:.2f}'.format)\n",
    "df.reset_index(drop=True, inplace=True)\n",
    "print(df)\n"
   ]
  }
 ],
 "metadata": {
  "kernelspec": {
   "display_name": "Python 3 (ipykernel)",
   "language": "python",
   "name": "python3"
  },
  "language_info": {
   "codemirror_mode": {
    "name": "ipython",
    "version": 3
   },
   "file_extension": ".py",
   "mimetype": "text/x-python",
   "name": "python",
   "nbconvert_exporter": "python",
   "pygments_lexer": "ipython3",
   "version": "3.10.9"
  }
 },
 "nbformat": 4,
 "nbformat_minor": 5
}
